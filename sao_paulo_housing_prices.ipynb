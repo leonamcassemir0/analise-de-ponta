{
 "cells": [
  {
   "cell_type": "markdown",
   "metadata": {
    "id": "3bJR6MGpYoEl"
   },
   "source": [
    "# Análise exploratória de ponta parte 2"
   ]
  },
  {
   "cell_type": "markdown",
   "metadata": {
    "id": "zpm_EwlYZq2O"
   },
   "source": [
    "Agora, vamos pensar como se estivéssemos trabalhando!<br> Em uma empresa, começariámos o dia com a demanda do gestor, mas é importante que perguntar para ele o objetivo da análise e informações adicionais."
   ]
  },
  {
   "cell_type": "markdown",
   "metadata": {
    "id": "VD0XzTMya2Bc"
   },
   "source": [
    "Nessa parte iremos aprender como mostrar nossas análises, como criar readme para os projetos e se destacar no mercado."
   ]
  },
  {
   "cell_type": "markdown",
   "metadata": {
    "id": "rq3AfEwDb5ro"
   },
   "source": [
    "# Introdução"
   ]
  },
  {
   "cell_type": "markdown",
   "metadata": {},
   "source": [
    "Neste estudo, nossa meta é mergulhar fundo nas relações que existem entre as características físicas de um imóvel, como metragem e número de cômodos, com seu preço e localização. A ideia é entender, principalmente, o que está por trás dos preços dos imóveis de São Paulo, uma das metrópoles mais agitadas e desafiadoras do Brasil. Os dados aqui analisados foram baixados na plataforma do Kaggle, bastante popular por suas competições de Machine Learning, e foram originadas de uma raspagem realizada no site do Quinto Andar, em março de 2023.\n",
    "\n",
    "A análise aqui apresentada discute as variáveis citadas acima e explora o quanto, e como, elas influenciam tanto o preço de aluguel quanto o preço total de um imóvel, com encargos adicionais (não especificados no Kaggle). Buscaremos entender, por exemplo, como a localização de um imóvel em determinado bairro pode impactar seu preço de aluguel. Além disso, investigaremos a relevância de outras características físicas do imóvel, como o tamanho em metros quadrados, a quantidade de banheiros e quartos, entre outros, na determinação de seu valor total de venda ou aluguel. Também vamos identificar os bairros mais caros e mais baratos da cidade.\n",
    "\n",
    "Este estudo foi feito apenas com o intuito de aprendizado, já que não sabemos se o dataset está enviesado de qualquer forma, com algum tipo de lacuna ou mesmo erros, já que não temos nenhum processo de validação.\n",
    "\n",
    "Então, seja bem-vindo à nossa jornada exploratória pelo mercado imobiliário de São Paulo!\n",
    "\n",
    "---\n",
    "\n",
    "Link para o dataset: https://www.kaggle.com/datasets/renatosn/sao-paulo-housing-prices\n",
    "\n",
    "Definição das colunas da tabela:\n",
    "- Endereço: O endereço do imóvel\n",
    "- Bairro: O bairro onde o imóvel está localizado\n",
    "- Área: A área do imóvel em metros quadrados\n",
    "- Quartos: O número de quartos no imóvel\n",
    "- Garagem: O número de vagas de estacionamento disponíveis no imóvel\n",
    "- Aluguel: O aluguel mensal do imóvel\n",
    "- Tipo: O tipo do imóvel (apartamento, casa, etc.)\n",
    "- Total: O custo total do imóvel, incluindo aluguel, impostos e outras taxas."
   ]
  },
  {
   "cell_type": "markdown",
   "metadata": {},
   "source": [
    "# Importando bibliotecas"
   ]
  },
  {
   "cell_type": "code",
   "execution_count": 1,
   "metadata": {},
   "outputs": [],
   "source": [
    "# Bibliotecas para tratar dados\n",
    "import pandas as pd\n",
    "import numpy as np\n",
    "\n",
    "# Bibliotecas para EDA\n",
    "import seaborn as sns\n",
    "import matplotlib.pyplot as plt\n",
    "import plotly.graph_objects as go\n",
    "import plotly.express as px\n",
    "\n",
    "# Configurar o estilo de gráfico\n",
    "plt.style.use('ggplot')\n",
    "\n",
    "# Configurar para exibir até 15 linhas\n",
    "pd.set_option(\"display.max_rows\", 15)\n",
    "\n",
    "# Configurar para mostrar todas as colunas\n",
    "pd.set_option(\"display.max_columns\", None)"
   ]
  },
  {
   "cell_type": "markdown",
   "metadata": {},
   "source": [
    "- **pd.set_option()** serve para configurar o Pandas. No nosso caso, optamos por mostrar 15 linhas (display rows = exibir linhas) Essa linha configura o pandas para mostrar no máximo 15 linhas quando exibir DataFrames e por exibir todas as colunas possíveis (display columns = exibir colunas)."
   ]
  },
  {
   "cell_type": "markdown",
   "metadata": {},
   "source": [
    "# Importando o Dataset"
   ]
  },
  {
   "cell_type": "code",
   "execution_count": 2,
   "metadata": {},
   "outputs": [
    {
     "data": {
      "text/html": [
       "<div>\n",
       "<style scoped>\n",
       "    .dataframe tbody tr th:only-of-type {\n",
       "        vertical-align: middle;\n",
       "    }\n",
       "\n",
       "    .dataframe tbody tr th {\n",
       "        vertical-align: top;\n",
       "    }\n",
       "\n",
       "    .dataframe thead th {\n",
       "        text-align: right;\n",
       "    }\n",
       "</style>\n",
       "<table border=\"1\" class=\"dataframe\">\n",
       "  <thead>\n",
       "    <tr style=\"text-align: right;\">\n",
       "      <th></th>\n",
       "      <th>address</th>\n",
       "      <th>district</th>\n",
       "      <th>area</th>\n",
       "      <th>bedrooms</th>\n",
       "      <th>garage</th>\n",
       "      <th>type</th>\n",
       "      <th>rent</th>\n",
       "      <th>total</th>\n",
       "    </tr>\n",
       "  </thead>\n",
       "  <tbody>\n",
       "    <tr>\n",
       "      <th>0</th>\n",
       "      <td>Rua Herval</td>\n",
       "      <td>Belenzinho</td>\n",
       "      <td>21</td>\n",
       "      <td>1</td>\n",
       "      <td>0</td>\n",
       "      <td>Studio e kitnet</td>\n",
       "      <td>2400</td>\n",
       "      <td>2939</td>\n",
       "    </tr>\n",
       "    <tr>\n",
       "      <th>1</th>\n",
       "      <td>Avenida São Miguel</td>\n",
       "      <td>Vila Marieta</td>\n",
       "      <td>15</td>\n",
       "      <td>1</td>\n",
       "      <td>1</td>\n",
       "      <td>Studio e kitnet</td>\n",
       "      <td>1030</td>\n",
       "      <td>1345</td>\n",
       "    </tr>\n",
       "    <tr>\n",
       "      <th>2</th>\n",
       "      <td>Rua Oscar Freire</td>\n",
       "      <td>Pinheiros</td>\n",
       "      <td>18</td>\n",
       "      <td>1</td>\n",
       "      <td>0</td>\n",
       "      <td>Apartamento</td>\n",
       "      <td>4000</td>\n",
       "      <td>4661</td>\n",
       "    </tr>\n",
       "    <tr>\n",
       "      <th>3</th>\n",
       "      <td>Rua Júlio Sayago</td>\n",
       "      <td>Vila Ré</td>\n",
       "      <td>56</td>\n",
       "      <td>2</td>\n",
       "      <td>2</td>\n",
       "      <td>Casa em condomínio</td>\n",
       "      <td>1750</td>\n",
       "      <td>1954</td>\n",
       "    </tr>\n",
       "    <tr>\n",
       "      <th>4</th>\n",
       "      <td>Rua Barata Ribeiro</td>\n",
       "      <td>Bela Vista</td>\n",
       "      <td>19</td>\n",
       "      <td>1</td>\n",
       "      <td>0</td>\n",
       "      <td>Studio e kitnet</td>\n",
       "      <td>4000</td>\n",
       "      <td>4654</td>\n",
       "    </tr>\n",
       "  </tbody>\n",
       "</table>\n",
       "</div>"
      ],
      "text/plain": [
       "              address      district  area  bedrooms  garage  \\\n",
       "0          Rua Herval    Belenzinho    21         1       0   \n",
       "1  Avenida São Miguel  Vila Marieta    15         1       1   \n",
       "2    Rua Oscar Freire     Pinheiros    18         1       0   \n",
       "3    Rua Júlio Sayago       Vila Ré    56         2       2   \n",
       "4  Rua Barata Ribeiro    Bela Vista    19         1       0   \n",
       "\n",
       "                 type  rent  total  \n",
       "0     Studio e kitnet  2400   2939  \n",
       "1     Studio e kitnet  1030   1345  \n",
       "2         Apartamento  4000   4661  \n",
       "3  Casa em condomínio  1750   1954  \n",
       "4     Studio e kitnet  4000   4654  "
      ]
     },
     "execution_count": 2,
     "metadata": {},
     "output_type": "execute_result"
    }
   ],
   "source": [
    "aptos = pd.read_csv(\"data.csv\")\n",
    "aptos.head()"
   ]
  },
  {
   "cell_type": "code",
   "execution_count": 3,
   "metadata": {},
   "outputs": [
    {
     "name": "stdout",
     "output_type": "stream",
     "text": [
      "O Dataframe possui 11657 linhas e 8 colunas.\n"
     ]
    }
   ],
   "source": [
    "print(f\"O Dataframe possui {aptos.shape[0]} linhas e {aptos.shape[1]} colunas.\")"
   ]
  },
  {
   "cell_type": "code",
   "execution_count": 4,
   "metadata": {},
   "outputs": [
    {
     "name": "stdout",
     "output_type": "stream",
     "text": [
      "<class 'pandas.core.frame.DataFrame'>\n",
      "RangeIndex: 11657 entries, 0 to 11656\n",
      "Data columns (total 8 columns):\n",
      " #   Column    Non-Null Count  Dtype \n",
      "---  ------    --------------  ----- \n",
      " 0   address   11657 non-null  object\n",
      " 1   district  11657 non-null  object\n",
      " 2   area      11657 non-null  int64 \n",
      " 3   bedrooms  11657 non-null  int64 \n",
      " 4   garage    11657 non-null  int64 \n",
      " 5   type      11657 non-null  object\n",
      " 6   rent      11657 non-null  int64 \n",
      " 7   total     11657 non-null  int64 \n",
      "dtypes: int64(5), object(3)\n",
      "memory usage: 728.7+ KB\n"
     ]
    }
   ],
   "source": [
    "aptos.info()"
   ]
  },
  {
   "cell_type": "markdown",
   "metadata": {},
   "source": [
    "Não temos nenhum campo nulo e uma amostra de tamanho razoável, tanto para criarmos boas inferências a respeito do padrão dos imóveis, quanto se quisermos, futuramente, criar modelos preditivos."
   ]
  },
  {
   "cell_type": "code",
   "execution_count": 5,
   "metadata": {},
   "outputs": [
    {
     "name": "stdout",
     "output_type": "stream",
     "text": [
      "Temos 5 colunas numéricas e 3 colunas categóricas\n"
     ]
    }
   ],
   "source": [
    "numerics = [\"int16\", \"int32\", \"int64\", \"float16\", \"float32\", \"float64\"]\n",
    "\n",
    "numericas = aptos.select_dtypes(include=numerics)\n",
    "categoricas = aptos.select_dtypes(exclude=numerics)\n",
    "\n",
    "print(f\"Temos {numericas.shape[1]} colunas numéricas e {categoricas.shape[1]} colunas categóricas\")"
   ]
  },
  {
   "cell_type": "markdown",
   "metadata": {},
   "source": [
    "- **.select_dtypes(include=None, exclude=None):** Retorna um subconjunto das colunas do DataFrame com base nos dtypes de coluna."
   ]
  },
  {
   "cell_type": "markdown",
   "metadata": {},
   "source": [
    "# Explorando os dados"
   ]
  },
  {
   "cell_type": "markdown",
   "metadata": {},
   "source": [
    "Eu sempre indico a mesma coisa, análise univariada, seguida da bivariada e, se necessário, avançar para a multivariada. É importante começar pela análise univariada, mesmo que ela não gere insights para responder às questões que levantamos no início do material, pois a análise univariada pode apontar alguma inconsistência nos dados, além de deixar você mais por dentro do perfil do público que está em análise."
   ]
  },
  {
   "cell_type": "code",
   "execution_count": 6,
   "metadata": {},
   "outputs": [
    {
     "data": {
      "image/png": "[encoded data removed]",
      "text/plain": [
       "<Figure size 1000x500 with 2 Axes>"
      ]
     },
     "metadata": {},
     "output_type": "display_data"
    }
   ],
   "source": [
    "fig, ax = plt.subplots(1, 2, figsize=(10, 5))\n",
    "\n",
    "ax[0].boxplot(aptos['rent'])\n",
    "ax[0].set_title('Boxplot da variável rent')\n",
    "\n",
    "ax[1].boxplot(aptos['total'])\n",
    "ax[1].set_title('Boxplot da variável total')\n",
    "\n",
    "plt.show()"
   ]
  },
  {
   "cell_type": "markdown",
   "metadata": {},
   "source": [
    "Podemos melhorar o código:"
   ]
  },
  {
   "cell_type": "code",
   "execution_count": 16,
   "metadata": {},
   "outputs": [
    {
     "data": {
      "image/png": "[encoded data removed]",
      "text/plain": [
       "<Figure size 1000x500 with 2 Axes>"
      ]
     },
     "metadata": {},
     "output_type": "display_data"
    }
   ],
   "source": [
    "fig, ax = plt.subplots(1, 2, figsize=(10, 5))\n",
    "\n",
    "bp1 = ax[0].boxplot(aptos['rent'], patch_artist=True)\n",
    "ax[0].set_title('Boxplot da variável rent')\n",
    "\n",
    "# Define a cor do boxplot\n",
    "bp1['boxes'][0].set_facecolor('lightblue')\n",
    "\n",
    "# Adiciona legenda do valor máximo\n",
    "max_rent = np.max(aptos['rent'])\n",
    "ax[0].annotate(f'Valor máximo: {max_rent}',\n",
    "                xy = (1, max_rent),\n",
    "                xytext = (1.05, max_rent),\n",
    "                bbox = dict(facecolor='lightblue', edgecolor='blue'), \n",
    "                fontsize=5)\n",
    "                \n",
    "bp2 = ax[1].boxplot(aptos['total'], patch_artist=True)\n",
    "ax[1].set_title('Boxplot da variável total')\n",
    "\n",
    "# Define a cor do boxplot\n",
    "bp2['boxes'][0].set_facecolor('lightgreen')\n",
    "\n",
    "# Adiciona legenda do valor máximo\n",
    "max_total = np.max(aptos['total'])\n",
    "ax[1].annotate(f'Valor máximo: {max_total}',\n",
    "                xy = (1, max_total),\n",
    "                xytext = (1.05, max_total),\n",
    "                bbox = dict(facecolor='lightgreen', edgecolor='green'),\n",
    "                fontsize=5)\n",
    "\n",
    "plt.show()"
   ]
  },
  {
   "cell_type": "markdown",
   "metadata": {},
   "source": [
    "## Explicação do código\n",
    "\n",
    "### Boxplot\n",
    "\n",
    "- **`patch_artist=True`**: Permite personalizar as cores das caixas\n",
    "\n",
    "\n",
    "### Título do primeiro\n",
    "- **Parâmetros adicionais**: `fontsize=`, `color=`, `fontweight=`, `pad=`, `loc='center'/'left'/'right'`\n",
    "\n",
    "### Colorindo o boxplot\n",
    "- **`bp1['boxes']`**: Acessa as caixas do boxplot (retorna uma lista)\n",
    "- **`[0]`**: Primeira (e única) caixa\n",
    "- **`.set_facecolor()`**: Define a cor de preenchimento\n",
    "\n",
    "### Encontrando o valor máximo\n",
    "```python\n",
    "max_rent = np.max(aptos['rent'])\n",
    "```\n",
    "- **`np.max()`**: Função NumPy que retorna o valor máximo\n",
    "- **Alternativas**: `aptos['rent'].max()`, `max(aptos['rent'])`\n",
    "\n",
    "### Anotação no gráfico\n",
    "```python\n",
    "ax[0].annotate(f'Valor máximo: {max_rent}',\n",
    "                xy = (1, max_rent),\n",
    "                xytext = (1.05, max_rent),\n",
    "                bbox = dict(facecolor='lightblue', edgecolor='blue'), \n",
    "                fontsize=5)\n",
    "```\n",
    "- **`.annotate()`**: Adiciona uma anotação com seta\n",
    "- **`f'Valor máximo: {max_rent}'`**: Texto da anotação (f-string)\n",
    "- **`xy=(1, max_rent)`**: Coordenadas do ponto a ser anotado\n",
    "- **`xytext=(1.05, max_rent)`**: Posição do texto da anotação\n",
    "- **`bbox=dict()`**: Caixa ao redor do texto\n",
    "  - **`facecolor`**: Cor de fundo da caixa\n",
    "  - **`edgecolor`**: Cor da borda da caixa\n",
    "- **`fontsize=5`**: Tamanho da fonte\n",
    "\n",
    "#### Parâmetros adicionais do annotate() \n",
    "- `arrowprops=dict()`: Propriedades da seta\n",
    "- `ha='center'/'left'/'right'`: Alinhamento horizontal\n",
    "- `va='top'/'bottom'/'center'`: Alinhamento vertical\n",
    "- `rotation=`: Rotação do texto\n",
    "- `color=`: Cor do texto\n",
    "\n",
    "### Parâmetros adicionais úteis para boxplot():\n",
    "- **`notch=True`**: Cria \"entalhes\" na caixa\n",
    "- **`bootstrap=1000`**: Número de amostras bootstrap para os entalhes\n",
    "- **`usermedians=[]`**: Valores customizados para as medianas\n",
    "- **`conf_intervals=[]`**: Intervalos de confiança customizados\n",
    "- **`showbox=False`**: Oculta as caixas\n",
    "- **`showcaps=False`**: Oculta as extremidades\n",
    "- **`showmeans=True`**: Mostra a média\n",
    "- **`meanline=True`**: Mostra a média como linha ao invés de ponto"
   ]
  },
  {
   "cell_type": "markdown",
   "metadata": {},
   "source": [
    "Abaixo, concluímos o que observamos e adicionamos mais um gráfico, apenas para facilitar a vida do eleitor que pode preferir ler histogramas:"
   ]
  },
  {
   "cell_type": "code",
   "execution_count": 20,
   "metadata": {},
   "outputs": [
    {
     "data": {
      "image/png": "[encoded data removed]",
      "text/plain": [
       "<Figure size 640x480 with 1 Axes>"
      ]
     },
     "metadata": {},
     "output_type": "display_data"
    }
   ],
   "source": [
    "# Calcula a mediana de rent\n",
    "median_rent = aptos.rent.median()\n",
    "\n",
    "# Formatando a mediana para 'R$ X,XX'\n",
    "median_rent_format = (\"R$ {:,.2f}\".format(median_rent).replace(',', 'v').replace('.', ',').replace('v', '.'))\n",
    "\n",
    "sns.histplot(aptos.rent, color='blue')\n",
    "plt.axvline(median_rent, color='lightblue', linestyle='dashed', linewidth=2)\n",
    "plt.title('Histograma do aluguel')\n",
    "plt.xlabel('Aluguel')\n",
    "plt.ylabel('Contagem')\n",
    "plt.text(x=aptos.rent.median(), y=840, s=f'Mediana = {median_rent_format}', fontsize=8)\n",
    "\n",
    "plt.show()"
   ]
  },
  {
   "cell_type": "markdown",
   "metadata": {},
   "source": [
    "Ficou legal, mas eu queria usar um pouco mais do Plotly, que não tem uma curva tão rápida, mas é uma biblioteca de visualização de dados muito mais interessante, capaz de criar gráficos bem bonitos. Vamos trocar o histograma acima por um no Plotly:"
   ]
  },
  {
   "cell_type": "code",
   "execution_count": 22,
   "metadata": {},
   "outputs": [
    {
     "data": {
      "application/vnd.plotly.v1+json": {
       "config": {
        "plotlyServerURL": "https://plot.ly"
       },
       "data": [
        {
         "marker": {
          "color": "blue"
         },
         "nbinsx": 50,
         "type": "histogram",
         "x": {
          "bdata": "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",
          "dtype": "i2"
         }
        },
        {
         "line": {
          "color": "lightblue",
          "dash": "dash"
         },
         "mode": "lines",
         "name": "Mediana = R$ 2.415,00",
         "showlegend": true,
         "type": "scatter",
         "x": [
          2415,
          2415
         ],
         "y": [
          0,
          2200
         ]
        }
       ],
       "layout": {
        "autosize": false,
        "height": 500,
        "template": {
         "data": {
          "bar": [
           {
            "error_x": {
             "color": "#2a3f5f"
            },
            "error_y": {
             "color": "#2a3f5f"
            },
            "marker": {
             "line": {
              "color": "#E5ECF6",
              "width": 0.5
             },
             "pattern": {
              "fillmode": "overlay",
              "size": 10,
              "solidity": 0.2
             }
            },
            "type": "bar"
           }
          ],
          "barpolar": [
           {
            "marker": {
             "line": {
              "color": "#E5ECF6",
              "width": 0.5
             },
             "pattern": {
              "fillmode": "overlay",
              "size": 10,
              "solidity": 0.2
             }
            },
            "type": "barpolar"
           }
          ],
          "carpet": [
           {
            "aaxis": {
             "endlinecolor": "#2a3f5f",
             "gridcolor": "white",
             "linecolor": "white",
             "minorgridcolor": "white",
             "startlinecolor": "#2a3f5f"
            },
            "baxis": {
             "endlinecolor": "#2a3f5f",
             "gridcolor": "white",
             "linecolor": "white",
             "minorgridcolor": "white",
             "startlinecolor": "#2a3f5f"
            },
            "type": "carpet"
           }
          ],
          "choropleth": [
           {
            "colorbar": {
             "outlinewidth": 0,
             "ticks": ""
            },
            "type": "choropleth"
           }
          ],
          "contour": [
           {
            "colorbar": {
             "outlinewidth": 0,
             "ticks": ""
            },
            "colorscale": [
             [
              0,
              "#0d0887"
             ],
             [
              0.1111111111111111,
              "#46039f"
             ],
             [
              0.2222222222222222,
              "#7201a8"
             ],
             [
              0.3333333333333333,
              "#9c179e"
             ],
             [
              0.4444444444444444,
              "#bd3786"
             ],
             [
              0.5555555555555556,
              "#d8576b"
             ],
             [
              0.6666666666666666,
              "#ed7953"
             ],
             [
              0.7777777777777778,
              "#fb9f3a"
             ],
             [
              0.8888888888888888,
              "#fdca26"
             ],
             [
              1,
              "#f0f921"
             ]
            ],
            "type": "contour"
           }
          ],
          "contourcarpet": [
           {
            "colorbar": {
             "outlinewidth": 0,
             "ticks": ""
            },
            "type": "contourcarpet"
           }
          ],
          "heatmap": [
           {
            "colorbar": {
             "outlinewidth": 0,
             "ticks": ""
            },
            "colorscale": [
             [
              0,
              "#0d0887"
             ],
             [
              0.1111111111111111,
              "#46039f"
             ],
             [
              0.2222222222222222,
              "#7201a8"
             ],
             [
              0.3333333333333333,
              "#9c179e"
             ],
             [
              0.4444444444444444,
              "#bd3786"
             ],
             [
              0.5555555555555556,
              "#d8576b"
             ],
             [
              0.6666666666666666,
              "#ed7953"
             ],
             [
              0.7777777777777778,
              "#fb9f3a"
             ],
             [
              0.8888888888888888,
              "#fdca26"
             ],
             [
              1,
              "#f0f921"
             ]
            ],
            "type": "heatmap"
           }
          ],
          "histogram": [
           {
            "marker": {
             "pattern": {
              "fillmode": "overlay",
              "size": 10,
              "solidity": 0.2
             }
            },
            "type": "histogram"
           }
          ],
          "histogram2d": [
           {
            "colorbar": {
             "outlinewidth": 0,
             "ticks": ""
            },
            "colorscale": [
             [
              0,
              "#0d0887"
             ],
             [
              0.1111111111111111,
              "#46039f"
             ],
             [
              0.2222222222222222,
              "#7201a8"
             ],
             [
              0.3333333333333333,
              "#9c179e"
             ],
             [
              0.4444444444444444,
              "#bd3786"
             ],
             [
              0.5555555555555556,
              "#d8576b"
             ],
             [
              0.6666666666666666,
              "#ed7953"
             ],
             [
              0.7777777777777778,
              "#fb9f3a"
             ],
             [
              0.8888888888888888,
              "#fdca26"
             ],
             [
              1,
              "#f0f921"
             ]
            ],
            "type": "histogram2d"
           }
          ],
          "histogram2dcontour": [
           {
            "colorbar": {
             "outlinewidth": 0,
             "ticks": ""
            },
            "colorscale": [
             [
              0,
              "#0d0887"
             ],
             [
              0.1111111111111111,
              "#46039f"
             ],
             [
              0.2222222222222222,
              "#7201a8"
             ],
             [
              0.3333333333333333,
              "#9c179e"
             ],
             [
              0.4444444444444444,
              "#bd3786"
             ],
             [
              0.5555555555555556,
              "#d8576b"
             ],
             [
              0.6666666666666666,
              "#ed7953"
             ],
             [
              0.7777777777777778,
              "#fb9f3a"
             ],
             [
              0.8888888888888888,
              "#fdca26"
             ],
             [
              1,
              "#f0f921"
             ]
            ],
            "type": "histogram2dcontour"
           }
          ],
          "mesh3d": [
           {
            "colorbar": {
             "outlinewidth": 0,
             "ticks": ""
            },
            "type": "mesh3d"
           }
          ],
          "parcoords": [
           {
            "line": {
             "colorbar": {
              "outlinewidth": 0,
              "ticks": ""
             }
            },
            "type": "parcoords"
           }
          ],
          "pie": [
           {
            "automargin": true,
            "type": "pie"
           }
          ],
          "scatter": [
           {
            "fillpattern": {
             "fillmode": "overlay",
             "size": 10,
             "solidity": 0.2
            },
            "type": "scatter"
           }
          ],
          "scatter3d": [
           {
            "line": {
             "colorbar": {
              "outlinewidth": 0,
              "ticks": ""
             }
            },
            "marker": {
             "colorbar": {
              "outlinewidth": 0,
              "ticks": ""
             }
            },
            "type": "scatter3d"
           }
          ],
          "scattercarpet": [
           {
            "marker": {
             "colorbar": {
              "outlinewidth": 0,
              "ticks": ""
             }
            },
            "type": "scattercarpet"
           }
          ],
          "scattergeo": [
           {
            "marker": {
             "colorbar": {
              "outlinewidth": 0,
              "ticks": ""
             }
            },
            "type": "scattergeo"
           }
          ],
          "scattergl": [
           {
            "marker": {
             "colorbar": {
              "outlinewidth": 0,
              "ticks": ""
             }
            },
            "type": "scattergl"
           }
          ],
          "scattermap": [
           {
            "marker": {
             "colorbar": {
              "outlinewidth": 0,
              "ticks": ""
             }
            },
            "type": "scattermap"
           }
          ],
          "scattermapbox": [
           {
            "marker": {
             "colorbar": {
              "outlinewidth": 0,
              "ticks": ""
             }
            },
            "type": "scattermapbox"
           }
          ],
          "scatterpolar": [
           {
            "marker": {
             "colorbar": {
              "outlinewidth": 0,
              "ticks": ""
             }
            },
            "type": "scatterpolar"
           }
          ],
          "scatterpolargl": [
           {
            "marker": {
             "colorbar": {
              "outlinewidth": 0,
              "ticks": ""
             }
            },
            "type": "scatterpolargl"
           }
          ],
          "scatterternary": [
           {
            "marker": {
             "colorbar": {
              "outlinewidth": 0,
              "ticks": ""
             }
            },
            "type": "scatterternary"
           }
          ],
          "surface": [
           {
            "colorbar": {
             "outlinewidth": 0,
             "ticks": ""
            },
            "colorscale": [
             [
              0,
              "#0d0887"
             ],
             [
              0.1111111111111111,
              "#46039f"
             ],
             [
              0.2222222222222222,
              "#7201a8"
             ],
             [
              0.3333333333333333,
              "#9c179e"
             ],
             [
              0.4444444444444444,
              "#bd3786"
             ],
             [
              0.5555555555555556,
              "#d8576b"
             ],
             [
              0.6666666666666666,
              "#ed7953"
             ],
             [
              0.7777777777777778,
              "#fb9f3a"
             ],
             [
              0.8888888888888888,
              "#fdca26"
             ],
             [
              1,
              "#f0f921"
             ]
            ],
            "type": "surface"
           }
          ],
          "table": [
           {
            "cells": {
             "fill": {
              "color": "#EBF0F8"
             },
             "line": {
              "color": "white"
             }
            },
            "header": {
             "fill": {
              "color": "#C8D4E3"
             },
             "line": {
              "color": "white"
             }
            },
            "type": "table"
           }
          ]
         },
         "layout": {
          "annotationdefaults": {
           "arrowcolor": "#2a3f5f",
           "arrowhead": 0,
           "arrowwidth": 1
          },
          "autotypenumbers": "strict",
          "coloraxis": {
           "colorbar": {
            "outlinewidth": 0,
            "ticks": ""
           }
          },
          "colorscale": {
           "diverging": [
            [
             0,
             "#8e0152"
            ],
            [
             0.1,
             "#c51b7d"
            ],
            [
             0.2,
             "#de77ae"
            ],
            [
             0.3,
             "#f1b6da"
            ],
            [
             0.4,
             "#fde0ef"
            ],
            [
             0.5,
             "#f7f7f7"
            ],
            [
             0.6,
             "#e6f5d0"
            ],
            [
             0.7,
             "#b8e186"
            ],
            [
             0.8,
             "#7fbc41"
            ],
            [
             0.9,
             "#4d9221"
            ],
            [
             1,
             "#276419"
            ]
           ],
           "sequential": [
            [
             0,
             "#0d0887"
            ],
            [
             0.1111111111111111,
             "#46039f"
            ],
            [
             0.2222222222222222,
             "#7201a8"
            ],
            [
             0.3333333333333333,
             "#9c179e"
            ],
            [
             0.4444444444444444,
             "#bd3786"
            ],
            [
             0.5555555555555556,
             "#d8576b"
            ],
            [
             0.6666666666666666,
             "#ed7953"
            ],
            [
             0.7777777777777778,
             "#fb9f3a"
            ],
            [
             0.8888888888888888,
             "#fdca26"
            ],
            [
             1,
             "#f0f921"
            ]
           ],
           "sequentialminus": [
            [
             0,
             "#0d0887"
            ],
            [
             0.1111111111111111,
             "#46039f"
            ],
            [
             0.2222222222222222,
             "#7201a8"
            ],
            [
             0.3333333333333333,
             "#9c179e"
            ],
            [
             0.4444444444444444,
             "#bd3786"
            ],
            [
             0.5555555555555556,
             "#d8576b"
            ],
            [
             0.6666666666666666,
             "#ed7953"
            ],
            [
             0.7777777777777778,
             "#fb9f3a"
            ],
            [
             0.8888888888888888,
             "#fdca26"
            ],
            [
             1,
             "#f0f921"
            ]
           ]
          },
          "colorway": [
           "#636efa",
           "#EF553B",
           "#00cc96",
           "#ab63fa",
           "#FFA15A",
           "#19d3f3",
           "#FF6692",
           "#B6E880",
           "#FF97FF",
           "#FECB52"
          ],
          "font": {
           "color": "#2a3f5f"
          },
          "geo": {
           "bgcolor": "white",
           "lakecolor": "white",
           "landcolor": "#E5ECF6",
           "showlakes": true,
           "showland": true,
           "subunitcolor": "white"
          },
          "hoverlabel": {
           "align": "left"
          },
          "hovermode": "closest",
          "mapbox": {
           "style": "light"
          },
          "paper_bgcolor": "white",
          "plot_bgcolor": "#E5ECF6",
          "polar": {
           "angularaxis": {
            "gridcolor": "white",
            "linecolor": "white",
            "ticks": ""
           },
           "bgcolor": "#E5ECF6",
           "radialaxis": {
            "gridcolor": "white",
            "linecolor": "white",
            "ticks": ""
           }
          },
          "scene": {
           "xaxis": {
            "backgroundcolor": "#E5ECF6",
            "gridcolor": "white",
            "gridwidth": 2,
            "linecolor": "white",
            "showbackground": true,
            "ticks": "",
            "zerolinecolor": "white"
           },
           "yaxis": {
            "backgroundcolor": "#E5ECF6",
            "gridcolor": "white",
            "gridwidth": 2,
            "linecolor": "white",
            "showbackground": true,
            "ticks": "",
            "zerolinecolor": "white"
           },
           "zaxis": {
            "backgroundcolor": "#E5ECF6",
            "gridcolor": "white",
            "gridwidth": 2,
            "linecolor": "white",
            "showbackground": true,
            "ticks": "",
            "zerolinecolor": "white"
           }
          },
          "shapedefaults": {
           "line": {
            "color": "#2a3f5f"
           }
          },
          "ternary": {
           "aaxis": {
            "gridcolor": "white",
            "linecolor": "white",
            "ticks": ""
           },
           "baxis": {
            "gridcolor": "white",
            "linecolor": "white",
            "ticks": ""
           },
           "bgcolor": "#E5ECF6",
           "caxis": {
            "gridcolor": "white",
            "linecolor": "white",
            "ticks": ""
           }
          },
          "title": {
           "x": 0.05
          },
          "xaxis": {
           "automargin": true,
           "gridcolor": "white",
           "linecolor": "white",
           "ticks": "",
           "title": {
            "standoff": 15
           },
           "zerolinecolor": "white",
           "zerolinewidth": 2
          },
          "yaxis": {
           "automargin": true,
           "gridcolor": "white",
           "linecolor": "white",
           "ticks": "",
           "title": {
            "standoff": 15
           },
           "zerolinecolor": "white",
           "zerolinewidth": 2
          }
         }
        },
        "title": {
         "text": "Histograma do aluguel"
        },
        "width": 900,
        "xaxis": {
         "title": {
          "text": "Aluguel"
         }
        },
        "yaxis": {
         "range": [
          0,
          2200
         ],
         "title": {
          "text": "Contagem"
         }
        }
       }
      },
      "image/png": "[encoded data removed]"
     },
     "metadata": {},
     "output_type": "display_data"
    }
   ],
   "source": [
    "median_rent = aptos.rent.median()\n",
    "\n",
    "median_rent_format = (\"R$ {:,.2f}\".format(median_rent).replace(',', 'v').replace('.', ',').replace('v', '.'))\n",
    "\n",
    "data = [go.Histogram(x=aptos.rent,\n",
    "                     nbinsx=50,\n",
    "                     marker=dict(color='blue'))]\n",
    "\n",
    "line = [go.Scatter(x=[median_rent, median_rent],\n",
    "                   y=[0, 2200],\n",
    "                   mode='lines',\n",
    "                   line=dict(color='lightblue', dash='dash'),\n",
    "                   showlegend=True,\n",
    "                   name=f\"Mediana = {median_rent_format}\")]\n",
    "\n",
    "fig = go.Figure(data=data+line)\n",
    "\n",
    "fig.update_layout(title_text=\"Histograma do aluguel\",\n",
    "                  xaxis_title=\"Aluguel\",\n",
    "                  yaxis_title=\"Contagem\",\n",
    "                  autosize=False,\n",
    "                  width=900,\n",
    "                  height=500)\n",
    "\n",
    "fig.update_yaxes(range=[0, 2200])\n",
    "\n",
    "fig.show()          "
   ]
  },
  {
   "cell_type": "markdown",
   "metadata": {},
   "source": [
    "## Explicação do código\n",
    "\n",
    "Vou explicar cada linha deste código que cria um histograma interativo com Plotly:\n",
    "\n",
    "### Cálculo da mediana\n",
    "- **Alternativa**: `np.median(aptos['rent'])`\n",
    "\n",
    "### Criação dos dados do histograma\n",
    "```python\n",
    "data = [go.Histogram(x=aptos.rent,\n",
    "                     nbinsx=50,\n",
    "                     marker=dict(color='blue'))]\n",
    "```\n",
    "- **`go.Histogram()`**: Classe do Plotly para criar histogramas\n",
    "- **`x=aptos.rent`**: Dados para o eixo X (valores de aluguel)\n",
    "- **`nbinsx=50`**: Número de bins (barras) do histograma\n",
    "- **`marker=dict(color='blue')`**: Define a cor das barras\n",
    "\n",
    "#### Parâmetros adicionais do Histogram\n",
    "- `y=`: Dados para o eixo Y (se quiser histograma horizontal)\n",
    "- `histnorm=`: Normalização ('percent', 'probability', 'density', 'probability density')\n",
    "- `cumulative=dict(enabled=True)`: Histograma cumulativo\n",
    "- `bingroup=`: Agrupa histogramas com o mesmo bingroup\n",
    "- `opacity=`: Transparência (0-1)\n",
    "- `name=`: Nome para a legenda\n",
    "- `showlegend=True/False`: Mostrar/ocultar na legenda\n",
    "\n",
    "### Criação da linha da mediana\n",
    "```python\n",
    "line = [go.Scatter(x=[median_rent, median_rent],\n",
    "                   y=[0, 2200],\n",
    "                   mode='lines',\n",
    "                   line=dict(color='lightblue', dash='dash'),\n",
    "                   showlegend=True,\n",
    "                   name=f\"Mediana = {median_rent_format}\")]\n",
    "```\n",
    "- **`go.Scatter()`**: Classe do Plotly para gráficos de dispersão/linhas\n",
    "- **`x=[median_rent, median_rent]`**: Coordenadas X (mesmo valor repetido = linha vertical)\n",
    "- **`y=[0, 2200]`**: Coordenadas Y (do 0 até 2200)\n",
    "- **`mode='lines'`**: Modo de exibição como linha\n",
    "- **`line=dict()`**: Propriedades da linha\n",
    "  - **`color='lightblue'`**: Cor da linha\n",
    "  - **`dash='dash'`**: Estilo tracejado\n",
    "- **`showlegend=True`**: Mostra na legenda\n",
    "- **`name=f\"...\"`**: Nome que aparece na legenda\n",
    "\n",
    "#### Outros estilos de linha\n",
    "- `dash='solid'`: Linha sólida\n",
    "- `dash='dot'`: Linha pontilhada\n",
    "- `dash='dashdot'`: Linha traço-ponto\n",
    "- `width=`: Espessura da linha\n",
    "\n",
    "#### Outros modos do Scatter\n",
    "- `mode='markers'`: Apenas pontos\n",
    "- `mode='lines+markers'`: Linha com pontos\n",
    "- `mode='text'`: Apenas texto\n",
    "\n",
    "### Criação da figura\n",
    "```python\n",
    "fig = go.Figure(data=data+line)\n",
    "```\n",
    "- **`go.Figure()`**: Cria uma figura do Plotly\n",
    "- **`data=data+line`**: Combina os dados do histograma com a linha da mediana\n",
    "- **Alternativa**: `fig.add_trace()` para adicionar elementos separadamente\n",
    "\n",
    "### Configuração do layout\n",
    "```python\n",
    "fig.update_layout(title_text=\"Histograma do aluguel\",\n",
    "                  xaxis_title=\"Aluguel\",\n",
    "                  yaxis_title=\"Contagem\",\n",
    "                  autosize=False,\n",
    "                  width=900,\n",
    "                  height=500)\n",
    "```\n",
    "- **`fig.update_layout()`**: Atualiza as propriedades do layout\n",
    "- **`title_text=`**: Título do gráfico\n",
    "- **`xaxis_title=`**: Título do eixo X\n",
    "- **`yaxis_title=`**: Título do eixo Y\n",
    "- **`autosize=False`**: Desabilita redimensionamento automático\n",
    "- **`width=900, height=500`**: Dimensões em pixels\n",
    "\n",
    "#### Parâmetros adicionais do layout\n",
    "- `title=dict(x=0.5, font=dict(size=20))`: Centralizar e configurar fonte do título\n",
    "- `font=dict(family=\"Arial\", size=12, color=\"black\")`: Fonte global\n",
    "- `plot_bgcolor='white'`: Cor de fundo do gráfico\n",
    "- `paper_bgcolor='lightgray'`: Cor de fundo da área total\n",
    "- `showlegend=True/False`: Mostrar/ocultar legenda\n",
    "- `legend=dict(x=0, y=1)`: Posição da legenda\n",
    "- `margin=dict(l=50, r=50, t=50, b=50)`: Margens\n",
    "\n",
    "### Configuração do eixo Y\n",
    "```python\n",
    "fig.update_yaxes(range=[0, 2200])\n",
    "```\n",
    "- **`fig.update_yaxes()`**: Atualiza propriedades do eixo Y\n",
    "- **`range=[0, 2200]`**: Define o intervalo do eixo Y\n",
    "\n",
    "#### Parâmetros adicionais dos eixos\n",
    "- `tickmode='linear', tick0=0, dtick=500`: Configurar ticks personalizados\n",
    "- `showgrid=True/False`: Mostrar/ocultar grade\n",
    "- `gridcolor='lightgray'`: Cor da grade\n",
    "- `zeroline=True/False`: Mostrar/ocultar linha do zero\n",
    "- `showticklabels=True/False`: Mostrar/ocultar rótulos dos ticks"
   ]
  },
  {
   "cell_type": "markdown",
   "metadata": {},
   "source": [
    "Poderíamos ir para os outros campos, certo?\n",
    "\n",
    "Claro, até poderíamos, mas ainda há algumas coisinhas para se verificar nos custos dos imóveis, como as estatísticas descritivas:"
   ]
  },
  {
   "cell_type": "code",
   "execution_count": 23,
   "metadata": {},
   "outputs": [
    {
     "data": {
      "text/html": [
       "<div>\n",
       "<style scoped>\n",
       "    .dataframe tbody tr th:only-of-type {\n",
       "        vertical-align: middle;\n",
       "    }\n",
       "\n",
       "    .dataframe tbody tr th {\n",
       "        vertical-align: top;\n",
       "    }\n",
       "\n",
       "    .dataframe thead th {\n",
       "        text-align: right;\n",
       "    }\n",
       "</style>\n",
       "<table border=\"1\" class=\"dataframe\">\n",
       "  <thead>\n",
       "    <tr style=\"text-align: right;\">\n",
       "      <th></th>\n",
       "      <th>count</th>\n",
       "      <th>mean</th>\n",
       "      <th>std</th>\n",
       "      <th>min</th>\n",
       "      <th>25%</th>\n",
       "      <th>50%</th>\n",
       "      <th>75%</th>\n",
       "      <th>max</th>\n",
       "    </tr>\n",
       "  </thead>\n",
       "  <tbody>\n",
       "    <tr>\n",
       "      <th>rent</th>\n",
       "      <td>11657.0</td>\n",
       "      <td>3250.814789</td>\n",
       "      <td>2650.711557</td>\n",
       "      <td>500.0</td>\n",
       "      <td>1590.0</td>\n",
       "      <td>2415.0</td>\n",
       "      <td>3800.0</td>\n",
       "      <td>25000.0</td>\n",
       "    </tr>\n",
       "    <tr>\n",
       "      <th>total</th>\n",
       "      <td>11657.0</td>\n",
       "      <td>4080.030625</td>\n",
       "      <td>3352.480274</td>\n",
       "      <td>509.0</td>\n",
       "      <td>1996.0</td>\n",
       "      <td>3057.0</td>\n",
       "      <td>4774.0</td>\n",
       "      <td>28700.0</td>\n",
       "    </tr>\n",
       "  </tbody>\n",
       "</table>\n",
       "</div>"
      ],
      "text/plain": [
       "         count         mean          std    min     25%     50%     75%  \\\n",
       "rent   11657.0  3250.814789  2650.711557  500.0  1590.0  2415.0  3800.0   \n",
       "total  11657.0  4080.030625  3352.480274  509.0  1996.0  3057.0  4774.0   \n",
       "\n",
       "           max  \n",
       "rent   25000.0  \n",
       "total  28700.0  "
      ]
     },
     "execution_count": 23,
     "metadata": {},
     "output_type": "execute_result"
    }
   ],
   "source": [
    "aptos[['rent', 'total']].describe().T"
   ]
  },
  {
   "cell_type": "code",
   "execution_count": null,
   "metadata": {},
   "outputs": [],
   "source": []
  }
 ],
 "metadata": {
  "colab": {
   "provenance": []
  },
  "kernelspec": {
   "display_name": "Python 3 (ipykernel)",
   "language": "python",
   "name": "python3"
  },
  "language_info": {
   "codemirror_mode": {
    "name": "ipython",
    "version": 3
   },
   "file_extension": ".py",
   "mimetype": "text/x-python",
   "name": "python",
   "nbconvert_exporter": "python",
   "pygments_lexer": "ipython3",
   "version": "3.13.5"
  }
 },
 "nbformat": 4,
 "nbformat_minor": 4
}
