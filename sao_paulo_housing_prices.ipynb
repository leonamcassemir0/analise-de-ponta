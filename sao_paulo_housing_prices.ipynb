{
 "cells": [
  {
   "cell_type": "markdown",
   "metadata": {
    "id": "3bJR6MGpYoEl"
   },
   "source": [
    "# Análise exploratória de ponta parte 2"
   ]
  },
  {
   "cell_type": "markdown",
   "metadata": {
    "id": "zpm_EwlYZq2O"
   },
   "source": [
    "Agora, vamos pensar como se estivéssemos trabalhando!<br> Em uma empresa, começariámos o dia com a demanda do gestor, mas é importante que perguntar para ele o objetivo da análise e informações adicionais."
   ]
  },
  {
   "cell_type": "markdown",
   "metadata": {
    "id": "VD0XzTMya2Bc"
   },
   "source": [
    "Nessa parte iremos aprender como mostrar nossas análises, como criar readme para os projetos e se destacar no mercado."
   ]
  },
  {
   "cell_type": "markdown",
   "metadata": {
    "id": "rq3AfEwDb5ro"
   },
   "source": [
    "# Introdução"
   ]
  },
  {
   "cell_type": "markdown",
   "metadata": {},
   "source": [
    "Neste estudo, nossa meta é mergulhar fundo nas relações que existem entre as características físicas de um imóvel, como metragem e número de cômodos, com seu preço e localização. A ideia é entender, principalmente, o que está por trás dos preços dos imóveis de São Paulo, uma das metrópoles mais agitadas e desafiadoras do Brasil. Os dados aqui analisados foram baixados na plataforma do Kaggle, bastante popular por suas competições de Machine Learning, e foram originadas de uma raspagem realizada no site do Quinto Andar, em março de 2023.\n",
    "\n",
    "A análise aqui apresentada discute as variáveis citadas acima e explora o quanto, e como, elas influenciam tanto o preço de aluguel quanto o preço total de um imóvel, com encargos adicionais (não especificados no Kaggle). Buscaremos entender, por exemplo, como a localização de um imóvel em determinado bairro pode impactar seu preço de aluguel. Além disso, investigaremos a relevância de outras características físicas do imóvel, como o tamanho em metros quadrados, a quantidade de banheiros e quartos, entre outros, na determinação de seu valor total de venda ou aluguel. Também vamos identificar os bairros mais caros e mais baratos da cidade.\n",
    "\n",
    "Este estudo foi feito apenas com o intuito de aprendizado, já que não sabemos se o dataset está enviesado de qualquer forma, com algum tipo de lacuna ou mesmo erros, já que não temos nenhum processo de validação.\n",
    "\n",
    "Então, seja bem-vindo à nossa jornada exploratória pelo mercado imobiliário de São Paulo!\n",
    "\n",
    "---\n",
    "\n",
    "Link para o dataset: https://www.kaggle.com/datasets/renatosn/sao-paulo-housing-prices\n",
    "\n",
    "Definição das colunas da tabela:\n",
    "- Endereço: O endereço do imóvel\n",
    "- Bairro: O bairro onde o imóvel está localizado\n",
    "- Área: A área do imóvel em metros quadrados\n",
    "- Quartos: O número de quartos no imóvel\n",
    "- Garagem: O número de vagas de estacionamento disponíveis no imóvel\n",
    "- Aluguel: O aluguel mensal do imóvel\n",
    "- Tipo: O tipo do imóvel (apartamento, casa, etc.)\n",
    "- Total: O custo total do imóvel, incluindo aluguel, impostos e outras taxas."
   ]
  },
  {
   "cell_type": "markdown",
   "metadata": {},
   "source": [
    "# Importando bibliotecas"
   ]
  },
  {
   "cell_type": "code",
   "execution_count": 8,
   "metadata": {},
   "outputs": [],
   "source": [
    "# Bibliotecas para tratar dados\n",
    "import pandas as pd\n",
    "import numpy as np\n",
    "\n",
    "# Bibliotecas para EDA\n",
    "import seaborn as sns\n",
    "import matplotlib.pyplot as plt\n",
    "import plotly.graph_objects as go\n",
    "import plotly.express as px\n",
    "\n",
    "# Configurar o estilo de gráfico\n",
    "plt.style.use('ggplot')\n",
    "\n",
    "# Configurar para exibir até 15 linhas\n",
    "pd.set_option(\"display.max_rows\", 15)\n",
    "\n",
    "# Configurar para mostrar todas as colunas\n",
    "pd.set_option(\"display.max_columns\", None)"
   ]
  },
  {
   "cell_type": "markdown",
   "metadata": {},
   "source": [
    "- **pd.set_option()** serve para configurar o Pandas. No nosso caso, optamos por mostrar 15 linhas (display rows = exibir linhas) Essa linha configura o pandas para mostrar no máximo 15 linhas quando exibir DataFrames e por exibir todas as colunas possíveis (display columns = exibir colunas)."
   ]
  },
  {
   "cell_type": "markdown",
   "metadata": {},
   "source": [
    "# Importando o Dataset"
   ]
  },
  {
   "cell_type": "code",
   "execution_count": 9,
   "metadata": {},
   "outputs": [
    {
     "data": {
      "text/html": [
       "<div>\n",
       "<style scoped>\n",
       "    .dataframe tbody tr th:only-of-type {\n",
       "        vertical-align: middle;\n",
       "    }\n",
       "\n",
       "    .dataframe tbody tr th {\n",
       "        vertical-align: top;\n",
       "    }\n",
       "\n",
       "    .dataframe thead th {\n",
       "        text-align: right;\n",
       "    }\n",
       "</style>\n",
       "<table border=\"1\" class=\"dataframe\">\n",
       "  <thead>\n",
       "    <tr style=\"text-align: right;\">\n",
       "      <th></th>\n",
       "      <th>address</th>\n",
       "      <th>district</th>\n",
       "      <th>area</th>\n",
       "      <th>bedrooms</th>\n",
       "      <th>garage</th>\n",
       "      <th>type</th>\n",
       "      <th>rent</th>\n",
       "      <th>total</th>\n",
       "    </tr>\n",
       "  </thead>\n",
       "  <tbody>\n",
       "    <tr>\n",
       "      <th>0</th>\n",
       "      <td>Rua Herval</td>\n",
       "      <td>Belenzinho</td>\n",
       "      <td>21</td>\n",
       "      <td>1</td>\n",
       "      <td>0</td>\n",
       "      <td>Studio e kitnet</td>\n",
       "      <td>2400</td>\n",
       "      <td>2939</td>\n",
       "    </tr>\n",
       "    <tr>\n",
       "      <th>1</th>\n",
       "      <td>Avenida São Miguel</td>\n",
       "      <td>Vila Marieta</td>\n",
       "      <td>15</td>\n",
       "      <td>1</td>\n",
       "      <td>1</td>\n",
       "      <td>Studio e kitnet</td>\n",
       "      <td>1030</td>\n",
       "      <td>1345</td>\n",
       "    </tr>\n",
       "    <tr>\n",
       "      <th>2</th>\n",
       "      <td>Rua Oscar Freire</td>\n",
       "      <td>Pinheiros</td>\n",
       "      <td>18</td>\n",
       "      <td>1</td>\n",
       "      <td>0</td>\n",
       "      <td>Apartamento</td>\n",
       "      <td>4000</td>\n",
       "      <td>4661</td>\n",
       "    </tr>\n",
       "    <tr>\n",
       "      <th>3</th>\n",
       "      <td>Rua Júlio Sayago</td>\n",
       "      <td>Vila Ré</td>\n",
       "      <td>56</td>\n",
       "      <td>2</td>\n",
       "      <td>2</td>\n",
       "      <td>Casa em condomínio</td>\n",
       "      <td>1750</td>\n",
       "      <td>1954</td>\n",
       "    </tr>\n",
       "    <tr>\n",
       "      <th>4</th>\n",
       "      <td>Rua Barata Ribeiro</td>\n",
       "      <td>Bela Vista</td>\n",
       "      <td>19</td>\n",
       "      <td>1</td>\n",
       "      <td>0</td>\n",
       "      <td>Studio e kitnet</td>\n",
       "      <td>4000</td>\n",
       "      <td>4654</td>\n",
       "    </tr>\n",
       "  </tbody>\n",
       "</table>\n",
       "</div>"
      ],
      "text/plain": [
       "              address      district  area  bedrooms  garage  \\\n",
       "0          Rua Herval    Belenzinho    21         1       0   \n",
       "1  Avenida São Miguel  Vila Marieta    15         1       1   \n",
       "2    Rua Oscar Freire     Pinheiros    18         1       0   \n",
       "3    Rua Júlio Sayago       Vila Ré    56         2       2   \n",
       "4  Rua Barata Ribeiro    Bela Vista    19         1       0   \n",
       "\n",
       "                 type  rent  total  \n",
       "0     Studio e kitnet  2400   2939  \n",
       "1     Studio e kitnet  1030   1345  \n",
       "2         Apartamento  4000   4661  \n",
       "3  Casa em condomínio  1750   1954  \n",
       "4     Studio e kitnet  4000   4654  "
      ]
     },
     "execution_count": 9,
     "metadata": {},
     "output_type": "execute_result"
    }
   ],
   "source": [
    "aptos = pd.read_csv(\"data.csv\")\n",
    "aptos.head()"
   ]
  },
  {
   "cell_type": "code",
   "execution_count": 11,
   "metadata": {},
   "outputs": [
    {
     "name": "stdout",
     "output_type": "stream",
     "text": [
      "O Dataframe possui 11657 linhas e 8 colunas.\n"
     ]
    }
   ],
   "source": [
    "print(f\"O Dataframe possui {aptos.shape[0]} linhas e {aptos.shape[1]} colunas.\")"
   ]
  },
  {
   "cell_type": "code",
   "execution_count": 12,
   "metadata": {},
   "outputs": [
    {
     "name": "stdout",
     "output_type": "stream",
     "text": [
      "<class 'pandas.core.frame.DataFrame'>\n",
      "RangeIndex: 11657 entries, 0 to 11656\n",
      "Data columns (total 8 columns):\n",
      " #   Column    Non-Null Count  Dtype \n",
      "---  ------    --------------  ----- \n",
      " 0   address   11657 non-null  object\n",
      " 1   district  11657 non-null  object\n",
      " 2   area      11657 non-null  int64 \n",
      " 3   bedrooms  11657 non-null  int64 \n",
      " 4   garage    11657 non-null  int64 \n",
      " 5   type      11657 non-null  object\n",
      " 6   rent      11657 non-null  int64 \n",
      " 7   total     11657 non-null  int64 \n",
      "dtypes: int64(5), object(3)\n",
      "memory usage: 728.7+ KB\n"
     ]
    }
   ],
   "source": [
    "aptos.info()"
   ]
  },
  {
   "cell_type": "markdown",
   "metadata": {},
   "source": [
    "Não temos nenhum campo nulo e uma amostra de tamanho razoável, tanto para criarmos boas inferências a respeito do padrão dos imóveis, quanto se quisermos, futuramente, criar modelos preditivos."
   ]
  },
  {
   "cell_type": "code",
   "execution_count": 14,
   "metadata": {},
   "outputs": [
    {
     "name": "stdout",
     "output_type": "stream",
     "text": [
      "Temos 5 colunas numéricas e 3 colunas categóricas\n"
     ]
    }
   ],
   "source": [
    "numerics = [\"int16\", \"int32\", \"int64\", \"float16\", \"float32\", \"float64\"]\n",
    "\n",
    "numericas = aptos.select_dtypes(include=numerics)\n",
    "categoricas = aptos.select_dtypes(exclude=numerics)\n",
    "\n",
    "print(f\"Temos {numericas.shape[1]} colunas numéricas e {categoricas.shape[1]} colunas categóricas\")"
   ]
  },
  {
   "cell_type": "markdown",
   "metadata": {},
   "source": [
    "- **.select_dtypes(include=None, exclude=None):** Retorna um subconjunto das colunas do DataFrame com base nos dtypes de coluna."
   ]
  },
  {
   "cell_type": "markdown",
   "metadata": {},
   "source": [
    "# Explorando os dados"
   ]
  },
  {
   "cell_type": "code",
   "execution_count": null,
   "metadata": {},
   "outputs": [],
   "source": []
  }
 ],
 "metadata": {
  "colab": {
   "provenance": []
  },
  "kernelspec": {
   "display_name": "Python 3 (ipykernel)",
   "language": "python",
   "name": "python3"
  },
  "language_info": {
   "codemirror_mode": {
    "name": "ipython",
    "version": 3
   },
   "file_extension": ".py",
   "mimetype": "text/x-python",
   "name": "python",
   "nbconvert_exporter": "python",
   "pygments_lexer": "ipython3",
   "version": "3.13.5"
  }
 },
 "nbformat": 4,
 "nbformat_minor": 4
}
